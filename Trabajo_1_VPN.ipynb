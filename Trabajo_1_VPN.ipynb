{
  "nbformat": 4,
  "nbformat_minor": 0,
  "metadata": {
    "colab": {
      "provenance": []
    },
    "kernelspec": {
      "name": "python3",
      "display_name": "Python 3"
    },
    "language_info": {
      "name": "python"
    }
  },
  "cells": [
    {
      "cell_type": "markdown",
      "source": [
        "# Valor Presente Neto (VPN)\n",
        "\n",
        "El Valor Presente Neto (VPN), también llamado Valor Actual Neto (VAN), es un indicador financiero que evalúa la rentabilidad de una inversión o proyecto al descontar los flujos de efectivo futuros esperados a una tasa específica y restarle la inversión inicial.\n",
        "\n",
        "##Formula de Valor Presente Neto (VPN)\n",
        "\n",
        "La formula del VPN se expresa de la siguiente manera:\n",
        "\n",
        "\\\n",
        "$$\n",
        "VPN = \\sum_{t=0}^{n} \\frac{C_t}{(1=r)^t} - C_0\n",
        "$$\n",
        "\n",
        "Donde:\n",
        "- \\(C_t\\) es el flujo de caja en el tiempo (t).\n",
        "- \\(r\\) es la tasa de descuento.\n",
        "- \\(n\\) es el numero total de periodos.\n",
        "- \\(C_0\\) es la inversion inicial\n",
        "\n",
        "##Interpretacion\n",
        "\n",
        "-Si \\(VPN > 0\\), la inversion es rentable\n",
        "-Si \\(VPN < 0\\), La inversion no es rentable\n",
        "-Si \\(VPN = 0\\), La inversion no genera ni perdidas ni ganacias\n",
        "\n",
        "##Enlace  Util\n",
        "\n",
        "Para obtener mas informacion sobre el valor presente neto, puedes consultar el siguiente [enlace](https://www.gerencie.com/valor-presente-neto.html).\n",
        "\n",
        "\n"
      ],
      "metadata": {
        "id": "CpXEEGve0AEj"
      }
    },
    {
      "cell_type": "code",
      "source": [
        "inversion_inicial = 6000\n",
        "flujo_ano_1 = 3000\n",
        "flujo_ano_2 = 2000\n",
        "flujo_ano_3 = 2500\n",
        "\n",
        "tasa_descuento = 0.10"
      ],
      "metadata": {
        "id": "ld-VWyjW25Zn"
      },
      "execution_count": null,
      "outputs": []
    },
    {
      "cell_type": "code",
      "source": [
        "vpn = (flujo_ano_1 / (1 + tasa_descuento) **1) + \\\n",
        "(flujo_ano_2 / (1 + tasa_descuento) **2) + \\\n",
        "(flujo_ano_3 / (1 + tasa_descuento) **3) - inversion_inicial\n",
        "\n",
        "print(\"el valor de inversion inicial es:\", vpn)"
      ],
      "metadata": {
        "colab": {
          "base_uri": "https://localhost:8080/"
        },
        "id": "bomC9qZH3ZXI",
        "outputId": "ad010fb1-3248-4d84-d89e-22ba16f59096"
      },
      "execution_count": null,
      "outputs": [
        {
          "output_type": "stream",
          "name": "stdout",
          "text": [
            "el valor de inversion inicial es: 258.45229151014155\n"
          ]
        }
      ]
    },
    {
      "cell_type": "code",
      "source": [
        "if vpn > 0:\n",
        "  print(\"El proyecto es viable, ya que el VPN es positivo.\")\n",
        "else:\n",
        "  print(\"El proyecto no es viable, ya que el VPN es negativo.\")"
      ],
      "metadata": {
        "colab": {
          "base_uri": "https://localhost:8080/"
        },
        "id": "StR0gI_t4CTJ",
        "outputId": "67eda01e-604e-481f-b614-49dbd1ccccd5"
      },
      "execution_count": null,
      "outputs": [
        {
          "output_type": "stream",
          "name": "stdout",
          "text": [
            "El proyecto es viable, ya que el VPN es positivo.\n"
          ]
        }
      ]
    }
  ]
}